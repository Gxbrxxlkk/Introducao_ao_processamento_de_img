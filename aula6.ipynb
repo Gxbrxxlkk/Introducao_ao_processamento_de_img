{
 "cells": [
  {
   "cell_type": "code",
   "execution_count": 3,
   "id": "ace6e528-df66-407d-b342-fe83a558c8ff",
   "metadata": {},
   "outputs": [],
   "source": [
    "import numpy as np\n",
    "import matplotlib.pyplot as plt \n",
    "import cv2"
   ]
  },
  {
   "cell_type": "markdown",
   "id": "c9bd782c-0a77-4c25-a94c-156c1eb54b3b",
   "metadata": {},
   "source": [
    "# Filtragem no dominio da frequencia"
   ]
  },
  {
   "cell_type": "raw",
   "id": "e429df33-7c32-417d-8aa7-d453327c081f",
   "metadata": {},
   "source": [
    "Série de Fourier\n",
    "Transformada de Fourier\n",
    "Decomposição  Reconstrução\n",
    "uma função pode ser reconstruida pela soma de outras funções(seno e cosseno), que variam em amplitude, fase e frequencia ou decomposta de mesma forma\n",
    "dominio de frequencia e dominio original, permite trabalhar nos dois dominios, convertendo sem perca de informação\n",
    "transformada rápida de Fourier (FFT)\n",
    "são necessárias MNmn multiplicações e adições para filtrar uma imagem MxN, com kernel mxn, kernel separado é MN(m+n)\n",
    "no dominio de frequencia 2MNlogMN (log na base 2)(não depende do tamanho do kernel, somente da imagem, tornando esse método preferivel ao necessidade de utilizar kernels grandes) onde o 2 é o processo de ida e volta do dominio original utilizando FFT \n"
   ]
  },
  {
   "cell_type": "markdown",
   "id": "d37fb9b6-327c-4bf9-89ba-2f7dc0db6a72",
   "metadata": {},
   "source": [
    "### Conceitos preliminares\n"
   ]
  },
  {
   "cell_type": "raw",
   "id": "7e7cdf27-1c7a-4f37-8023-42ced412c965",
   "metadata": {},
   "source": [
    "Sinal senoidas pode ser escrito como x(t) = A.sen(wt + fi)\n",
    "Amplitude(A) é o valor máximo (positivo ou negativo) que a onda atinge em relação azero. Está relacionada com a intensidade fenomeno\n",
    "Frequencia angular(W) medida em radianos por segundo(rad/s) relação com a frequencia f (em Hz)\n",
    "fi deslocamento em relação a origem? sim\n",
    "frequencia = w/2pi"
   ]
  },
  {
   "cell_type": "raw",
   "id": "87fb8a60-5ed5-4d71-b2c5-eca55db2678d",
   "metadata": {},
   "source": [
    "Um numero complexo é definido como c= a + jb, onde a e b são numeros reais j = raiz(-1) >>c* = a - jb << complexo conjulgado\n",
    "norma/amplitude |c| = raiz(a²+b²)\n",
    "angulo de fase theta = tan-¹(b/a)\n",
    "representação em coordenadas poalraes\n",
    "c = |c|*(cos(theta) + jsen(theta))\n",
    "formula de euler c = |c|e^jtheta isso é igual a formula acima\n",
    "função complexa recebe um valor real e devolve um valor complexo (tem a parte real e a imaginaria)\n",
    "parametrizado\n",
    "impulso cobrinha de t com t continuo função generalizada delta de dirac\n",
    "delta de dirac é usado para fazer filtragem\n",
    "delta de kronecker é discreto\n",
    "\n",
    "sifting\n",
    "A primeira integral transforma para a do dominio de frequencia, já a integral de baixo é a que leva ao original\n",
    "mi e ni \n",
    "o resultado da primeira intgral é uma função de mi e ni(frequencia das senoides) -> retoruna um numero complexo, no dominio de frequencia\n",
    "\n",
    "sen(X)/x se chama sinc?\n"
   ]
  },
  {
   "cell_type": "markdown",
   "id": "3b39d5a2-b225-4db2-a714-ed1d529aab31",
   "metadata": {},
   "source": [
    "### Teorema da Amostragem"
   ]
  },
  {
   "cell_type": "raw",
   "id": "d702bcb7-be20-4f98-b224-899e6037d61e",
   "metadata": {},
   "source": [
    "imagem -> função discreta\n",
    "f(x,y) -> cordenadas dos pixels\n",
    "entender como funciona a transformada de furier para valores discretos\n",
    "olhando para o espaço de frequencia - se é banda limitada (não pode passar de uma frequencia em dois sentidos) \n",
    "a transformada de uma função não continua,vira uma função periodica, as cópias (vai se repetindo) são cópias\n",
    "se eu amostrar com freq acima do dobro da max, não vai ter sobreposição, ao contrario sim\n",
    "aliasing espacial e temporal\n",
    "transformada discreta de fourier suas propriedades"
   ]
  }
 ],
 "metadata": {
  "kernelspec": {
   "display_name": "Python 3 (ipykernel)",
   "language": "python",
   "name": "python3"
  },
  "language_info": {
   "codemirror_mode": {
    "name": "ipython",
    "version": 3
   },
   "file_extension": ".py",
   "mimetype": "text/x-python",
   "name": "python",
   "nbconvert_exporter": "python",
   "pygments_lexer": "ipython3",
   "version": "3.10.12"
  }
 },
 "nbformat": 4,
 "nbformat_minor": 5
}
