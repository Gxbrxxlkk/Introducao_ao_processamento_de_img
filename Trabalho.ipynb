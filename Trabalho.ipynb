{
  "nbformat": 4,
  "nbformat_minor": 0,
  "metadata": {
    "colab": {
      "provenance": [],
      "authorship_tag": "ABX9TyPhlJfSNoN1duHcsk4vAfEZ"
    },
    "kernelspec": {
      "name": "python3",
      "display_name": "Python 3"
    },
    "language_info": {
      "name": "python"
    }
  },
  "cells": [
    {
      "cell_type": "markdown",
      "source": [
        "# Operações básicas com imagem\n"
      ],
      "metadata": {
        "id": "gg1eMpUPvkfr"
      }
    },
    {
      "cell_type": "markdown",
      "source": [
        "Importação de bibliotecas"
      ],
      "metadata": {
        "id": "z5PJLcriwKkN"
      }
    },
    {
      "cell_type": "code",
      "source": [
        "import cv2\n",
        "import numpy as np\n",
        "import matplotlib.pyplot as plt"
      ],
      "metadata": {
        "id": "FYkjCqF1vo8N"
      },
      "execution_count": 68,
      "outputs": []
    },
    {
      "cell_type": "markdown",
      "source": [
        "2.1 Usando a biblioteca Opencv cv2.imread(), implemente a função read_img(path,\n",
        "grayscale=True) no arquivo common.py. A função deve carregar uma imagem a partir\n",
        "do caminho (path) especificado e, opcionalmente, convertê-la para escala de cinza. A\n",
        "imagem carregada deve ser retornada como um array NumPy com valores do tipo float\n",
        "normalizado para o intervalo [0, 1]."
      ],
      "metadata": {
        "id": "Unt3j4jGzjpb"
      }
    },
    {
      "cell_type": "code",
      "source": [
        "import cv2\n",
        "import numpy as np\n",
        "\n",
        "def read_img(path, grayscale=True):\n",
        "  img = cv2.imread(path)\n",
        "\n",
        "  if grayscale:\n",
        "    img = cv2.cvtColor(img, cv2.COLOR_BGR2GRAY)\n",
        "\n",
        "  img = img.astype(np.float32) / 255.0\n",
        "\n",
        "  return img"
      ],
      "metadata": {
        "id": "1q8mMJRoyM9C"
      },
      "execution_count": 69,
      "outputs": []
    },
    {
      "cell_type": "code",
      "source": [
        "path = \"/content/baby-cat.jpeg\"\n",
        "\n",
        "img = read_img(path, grayscale=False)\n",
        "\n",
        "gray_img = read_img(path, grayscale=True)"
      ],
      "metadata": {
        "id": "X7YUpsJtzpsn"
      },
      "execution_count": 70,
      "outputs": []
    },
    {
      "cell_type": "markdown",
      "source": [
        "2.2 Usando a função cv2.imwrite() da biblioteca Opencv, implemente no arquivo\n",
        "common.py a função save_img(img, path). Ela deve rescalar o conteúdo da imagem\n",
        "para valores entre 0 e 255 e então salva-la no caminho (path) especificado."
      ],
      "metadata": {
        "id": "5QB1dk693K12"
      }
    },
    {
      "cell_type": "code",
      "source": [
        "def save_img(img, path):\n",
        "  img = (img * 255).astype(np.uint8)\n",
        "\n",
        "  cv2.imwrite(path, img)"
      ],
      "metadata": {
        "id": "3RmqsVMp3Wrf"
      },
      "execution_count": 71,
      "outputs": []
    },
    {
      "cell_type": "code",
      "source": [
        "path = \"/content/gato.png\"\n",
        "path2 = \"/content/gato_cinza.png\"\n",
        "\n",
        "save_img(img, path)\n",
        "save_img(gray_img,path2)"
      ],
      "metadata": {
        "id": "tzgEgavBBpw_"
      },
      "execution_count": 72,
      "outputs": []
    },
    {
      "cell_type": "markdown",
      "source": [
        "2.3 Usando a função read_img(), leia a imagem lenagray.jpg. Defina uma nova imagem J, 256\n",
        "× 256 da seguinte forma: a metade esquerda de J, ou seja, as primeiras 128 colunas, devem\n",
        "ser iguais à metade direita da imagem lenagray.jpg. A metade direita de J, ou seja, as colunas\n",
        "de 128 colunas restantes, devem ser iguais à metade esquerda da imagem do lenagray.jpg.\n",
        "Salve a imagem modificada usando save_img()"
      ],
      "metadata": {
        "id": "IouYuXgQHfyo"
      }
    },
    {
      "cell_type": "code",
      "source": [
        "img = read_img(\"/content/lenagray.jpg\")\n",
        "altura,largura = img.shape\n",
        "J = np.zeros((altura, largura), dtype=img.dtype)\n",
        "J[: , 0:128] = img[: , 128:] #slicing\n",
        "J[: , 128:] = img[:, 0:128]\n",
        "\n",
        "path = \"/content/lenagray_invertida.jpg\"\n",
        "save_img(J, path)"
      ],
      "metadata": {
        "id": "YloJGWCpHh_P"
      },
      "execution_count": 73,
      "outputs": []
    },
    {
      "cell_type": "markdown",
      "source": [
        "2.4 Usando a função read_img(), leia a imagem lenacolor.jpg. Defina uma nova imagem J,\n",
        "com as mesmas dimensões da imagem original. Faça com que o canal vermelho da nova\n",
        "imagem seja igual ao canal azul da imagem original, faça o canal verde da nova imagem igual\n",
        "ao canal vermelho da imagem original, e faça o canal azul da nova imagem igual ao canal\n",
        "verde da imagem original. Salve a nova imagem usando save_img()."
      ],
      "metadata": {
        "id": "lF4flN4jM7KC"
      }
    },
    {
      "cell_type": "code",
      "source": [
        "img = read_img(\"/content/lenacolor.jpg\", grayscale=False)\n",
        "altura, largura, canal_de_cor = img.shape\n",
        "J = np.zeros((altura,largura,canal_de_cor),dtype = img.dtype)\n",
        "J[:,:, 0] = img[:,:,0]\n",
        "J[:,:, 1] = img[:,:,2]\n",
        "J[:,:, 2] = img[:,:,1]\n",
        "\n",
        "path = \"/content/lenacolor_cor_invertida.jpg\"\n",
        "save_img(J, path)"
      ],
      "metadata": {
        "id": "1vIRCILDKalf"
      },
      "execution_count": 75,
      "outputs": []
    },
    {
      "cell_type": "markdown",
      "source": [
        "# Tranformações de Intensidade"
      ],
      "metadata": {
        "id": "-uddXqtSPt4S"
      }
    },
    {
      "cell_type": "markdown",
      "source": [
        "3.1 Matematicamente, que a transformações usamos para melhorar o contraste de áreas\n",
        "escuras de imagens? Explique o funcionamento."
      ],
      "metadata": {
        "id": "G-HMYp3uP2qa"
      }
    },
    {
      "cell_type": "markdown",
      "source": [
        "Utilizamos uma tranformação logaritmica, para aumentar a difenreça entre os pixels mais escuros da imagem"
      ],
      "metadata": {
        "id": "VxwvcQ1FXUK3"
      }
    },
    {
      "cell_type": "code",
      "source": [],
      "metadata": {
        "id": "eLDKKyjuOFEB"
      },
      "execution_count": 74,
      "outputs": []
    },
    {
      "cell_type": "markdown",
      "source": [
        "3.2 Implemente no arquivo transforms.py a função gamma(img, lambda). Esta função\n",
        "deve ler uma imagem usando read_img() e retornar a imagem transformada e\n",
        "normalizado. Teste a função usando a imagem acromáticas de sua escolha e realize o\n",
        "salvamento com save_img() definidas no arquivo common.py. Imprima e discuta os\n",
        "resultados em seu relatório."
      ],
      "metadata": {
        "id": "_b-RkTkPP8D6"
      }
    },
    {
      "cell_type": "code",
      "source": [
        "def gamma(img, lamdba):\n",
        "  imagem = read_img(img)\n",
        "  c = (1.0/(1.0 ** lamdba))\n",
        "  img_out =  c * (np.pow(imagem, lamdba))\n",
        "\n",
        "  return img_out"
      ],
      "metadata": {
        "id": "tarTmTUgP-U7"
      },
      "execution_count": 83,
      "outputs": []
    },
    {
      "cell_type": "code",
      "source": [
        "img = \"/content/grace_hopper.png\"\n",
        "\n",
        "img_1 = gamma(img, 0.1)\n",
        "img_2 = gamma(img, 3)\n",
        "\n",
        "path_1 = \"/content/grace_hopper_contraste_exp.png\"\n",
        "path_2 = \"/content/grace_hopper_contraste_log.png\"\n",
        "\n",
        "save_img(img_1, path_1)\n",
        "save_img(img_2, path_2)"
      ],
      "metadata": {
        "id": "CFHnWXjYbrXt"
      },
      "execution_count": 87,
      "outputs": []
    },
    {
      "cell_type": "markdown",
      "source": [
        "3.3 Matematicamente, qual é a função de transformação de intensidade que usamos para gerar\n",
        "negativos de imagens? Explique o seu funcionamento."
      ],
      "metadata": {
        "id": "UIlD5ds2P_fs"
      }
    },
    {
      "cell_type": "markdown",
      "source": [
        "Para imagens acromáticas, a formula matemática é g(x,y) = L - 1 - f(x,y)\n",
        "em que L é a intensidade máxima da imagem, em imagens de 8 bits 2⁸ é 256, e em imagens coloridas acontece o mesmo, mas em três canais de cores, uma função dividida em três componentes."
      ],
      "metadata": {
        "id": "3bHgjxX8efHr"
      }
    },
    {
      "cell_type": "code",
      "source": [],
      "metadata": {
        "id": "UGysNtDDQBKj"
      },
      "execution_count": null,
      "outputs": []
    },
    {
      "cell_type": "markdown",
      "source": [
        "3.4 Implemente no arquivo transforms.py a função negative(img). Esta função deve ler\n",
        "uma imagem usando read_img() e retornar o seu negativo normalizado. Teste a função\n",
        "usando a imagem lenacolor.jpg e realize o salvamento com save_img() definidas no\n",
        "arquivo common.py. Imprima e discuta os resultados em seu relatório."
      ],
      "metadata": {
        "id": "5OHgeI7PQBqu"
      }
    },
    {
      "cell_type": "code",
      "source": [
        "def negative(img):\n",
        "  imagem = read_img(img, grayscale=False)\n",
        "  img_out = 255 - imagem\n",
        "  return img_out"
      ],
      "metadata": {
        "id": "PifA01O9QDXt"
      },
      "execution_count": 90,
      "outputs": []
    },
    {
      "cell_type": "code",
      "source": [
        "img = \"/content/lenacolor.jpg\"\n",
        "img_out = negative(img)\n",
        "\n",
        "path = \"/content/lenacolor_negative.jpg\"\n",
        "save_img(img_out, path)"
      ],
      "metadata": {
        "id": "gQdKgLXJhUSk"
      },
      "execution_count": 91,
      "outputs": []
    },
    {
      "cell_type": "markdown",
      "source": [
        "3.5 Por que correções de brilho no espaço RGB podem ser problemáticas? Qual o espaço de cor\n",
        "mais apropriado?"
      ],
      "metadata": {
        "id": "OfMcMHNfQDxX"
      }
    },
    {
      "cell_type": "markdown",
      "source": [],
      "metadata": {
        "id": "hvBGjP1vh6J4"
      }
    },
    {
      "cell_type": "code",
      "source": [],
      "metadata": {
        "id": "vbtC6B8yQFlo"
      },
      "execution_count": null,
      "outputs": []
    },
    {
      "cell_type": "markdown",
      "source": [
        "3.6 Como podemos interpretar o histograma de uma imagem em tons de cinza? Explique\n",
        "quando podemos inferir que uma imagem tem baixo contraste observando seu\n",
        "histograma."
      ],
      "metadata": {
        "id": "voi4nolPQM5l"
      }
    },
    {
      "cell_type": "code",
      "source": [],
      "metadata": {
        "id": "NFQbgnhVQNTX"
      },
      "execution_count": null,
      "outputs": []
    },
    {
      "cell_type": "markdown",
      "source": [
        "3.7 Qual a finalidade da especificação de histograma. Explique matematicamente o\n",
        "procedimento de transformação da imagem de entrada."
      ],
      "metadata": {
        "id": "3yyGHWkiQOmR"
      }
    },
    {
      "cell_type": "code",
      "source": [],
      "metadata": {
        "id": "oJYYTmhFQQIa"
      },
      "execution_count": null,
      "outputs": []
    },
    {
      "cell_type": "markdown",
      "source": [
        "3.8 Qual a finalidade da equalização de histogramas? Qual é a função de transformação de\n",
        "intensidade envolvida? Explique o procedimento."
      ],
      "metadata": {
        "id": "obEDyikmQTiN"
      }
    },
    {
      "cell_type": "code",
      "source": [],
      "metadata": {
        "id": "sTxyuZEoQT5C"
      },
      "execution_count": null,
      "outputs": []
    },
    {
      "cell_type": "markdown",
      "source": [
        "3.9 No arquivo transforms.py Implemente a função histeq(img). Essa função recebe uma\n",
        "imagem como entrada e retorna a imagem equalizada. Se a imagem for colorida a\n",
        "equalização deve ser feita apenas na intensidade no espaço HSI. Para esse exercício é\n",
        "proibido usar funções numpy ou Opencv integradas para calcular histogramas ou realizar a\n",
        "equalização. Para fins de teste, utilize duas imagens de sua escolha, uma colorida e uma em\n",
        "escala de cinza, ambas com baixo contraste. Compare os resultados da sua implementação\n",
        "com os obtidos com cv2.equalizeHist(), plotando-os lado a lado."
      ],
      "metadata": {
        "id": "2965AidvQVio"
      }
    },
    {
      "cell_type": "code",
      "source": [],
      "metadata": {
        "id": "tfbs8sleQV_q"
      },
      "execution_count": null,
      "outputs": []
    },
    {
      "cell_type": "markdown",
      "source": [
        "3.10 Explique o procedimento para realizar a especificação de histogramas de imagens."
      ],
      "metadata": {
        "id": "k_cVRgSYQWf9"
      }
    },
    {
      "cell_type": "code",
      "source": [],
      "metadata": {
        "id": "x5SrX78CQX-B"
      },
      "execution_count": null,
      "outputs": []
    }
  ]
}